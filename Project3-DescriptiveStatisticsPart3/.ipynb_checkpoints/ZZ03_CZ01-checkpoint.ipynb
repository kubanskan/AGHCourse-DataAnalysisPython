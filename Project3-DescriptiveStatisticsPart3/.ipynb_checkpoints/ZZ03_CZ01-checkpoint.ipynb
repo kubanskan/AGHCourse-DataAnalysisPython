{
 "cells": [
  {
   "cell_type": "markdown",
   "id": "a676bb07",
   "metadata": {
    "deletable": false,
    "editable": false,
    "nbgrader": {
     "cell_type": "markdown",
     "checksum": "de5d2954ee53a96e0e5fe7d13e6051d7",
     "grade": false,
     "grade_id": "cell-fcd2666579131b77",
     "locked": true,
     "schema_version": 3,
     "solution": false,
     "task": false
    },
    "tags": []
   },
   "source": [
    "# Analiza danych przestrzennych - ćwiczenia laboratoryjne 2023/2024\n",
    "\n",
    "Ten notatnik zalicza się do grupy zestawów zadań, na podstawie których odbywa się zaliczenie ćwiczeń i podlega zwrotowi do oceny w ustalonym na zajęciach terminie.\n",
    "\n",
    "Uwagi i wytyczne ogólne dotyczące uzupełniania i oceny notatnika:\n",
    "- Podczas wykonywania zadań należy korzystać wyłącznie z pakietów zaimportowanych na początku notatnika oraz z pakietów wchodzących w skład standardowej biblioteki Pythona, które można zaimportować samodzielnie we wskazanej komórce notatnika.\n",
    "- Swoje rozwiązania należy wprowadzać wyłącznie w miejce następujących fragmentów kodu:<br/> `# YOUR CODE HERE`<br/> `raise NotImplementedError()`<br/> \n",
    "a odpowiedzi tekstowe w komórkach oznaczonych hasłem:<br/> \n",
    "`YOUR ANSWER HERE`<br/> \n",
    "Nie należy w żaden sposób modyfikować pozostałych fragmentów kodu oraz innych elementów notatnika, w szczególności dodawać lub usuwać komórek oraz zmieniać nazwy pliku.\n",
    "- Jeżeli zestaw zadań wymaga skorzystania z fragmentów kodu opracowanego w ramach wcześniejszych zestawów zadań należy je umieścić we wskazanej komórce notatnika.\n",
    "- Otrzymywane wyniki i odpowiedzi mają być rezultatem wykonania napisanego kodu, odpowiedzi uzupełniane manualnie nie podlegają ocenie.\n",
    "- Zawarte w notatniku automatyczne testy mają charakter poglądowy. Dotyczą one wybranych aspektów zadań i mają na celu wyłapać podstawowe błędy. Przejście przez kod wszystkich testów nie oznacza, że zadanie jest wykonane w całości poprawnie i zostanie ocenione na maksymalną liczbę punktów.\n",
    "- Zadania należy wykonać w taki sposób, aby podczas wykonywania kodu nie zostały wyświetlone żadne ostrzeżenia.\n",
    "- Zadania, które powodują wyświetlenie komunikatu o błędzie przerywającym wykonywanie kodu nie podlegają ocenie.\n",
    "\n",
    "Uwagi i wytyczne ogólne dotyczące wizualizacji wyników:\n",
    "- Wszystkie wykresy powinny być wykonane w jednolitym, przejrzystym i czytelnym stylu, posiadać odpowiednio dobrane proporcje i zakresy wartości osi.\n",
    "- Figury powinny mieć ustawione białe tło, tak, aby niezależnie od ustawień notatnika wszystkie elementy wykresów były dobrze widoczne (domyślnie tło jest przeźroczyste co może powodować problemy w notatnikach z ustawionym ciemnym tłem). Rozmiar poziomy figur nie powinien przekraczać 20 cali.\n",
    "- Wykresy oraz ich osie powinny mieć nadane tytuły. Jeżeli w obrębie figury znajduje się więcej niż jeden wykres to figura również powinna mieć nadany tytuł.\n",
    "\n",
    "Przed odesłaniem zestawu zadań do oceny proszę uzupełnić komórkę z danymi autorów rozwiązania (nazwa zespołu oraz imiona, nazwiska i numery indeksów członków zespołu) oraz upewnić się, że notatnik działa zgodnie z oczekiwaniami. W tym celu należy skorzystać z opcji **Restart Kernel and Run All Cells...** dostępnej na górnej belce notatnika pod symbolem $\\blacktriangleright\\blacktriangleright$."
   ]
  },
  {
   "cell_type": "markdown",
   "id": "830695b2",
   "metadata": {},
   "source": [
    "Nazwa zespołu:\n",
    "Członkowie:"
   ]
  },
  {
   "cell_type": "markdown",
   "id": "2b6077b8",
   "metadata": {
    "deletable": false,
    "editable": false,
    "nbgrader": {
     "cell_type": "markdown",
     "checksum": "eddc8826810e4a6f7bf68319da334bd9",
     "grade": false,
     "grade_id": "cell-109006d425e5cf83",
     "locked": true,
     "schema_version": 3,
     "solution": false,
     "task": false
    },
    "tags": []
   },
   "source": [
    "---"
   ]
  },
  {
   "cell_type": "markdown",
   "id": "fe74743f-1998-4812-ac65-974bd8469d8d",
   "metadata": {
    "deletable": false,
    "editable": false,
    "nbgrader": {
     "cell_type": "markdown",
     "checksum": "1c2069cc6d722a734aaf19aa1762544b",
     "grade": false,
     "grade_id": "cell-21ac76da9323c36f",
     "locked": true,
     "schema_version": 3,
     "solution": false,
     "task": false
    },
    "tags": []
   },
   "source": [
    "## Zestaw zadań 3: Elementy statystyki opisowej 3 (Notatnik 1/3)"
   ]
  },
  {
   "cell_type": "code",
   "execution_count": 3,
   "id": "7f9968ab-aec5-4893-b0ad-34121d66004f",
   "metadata": {
    "deletable": false,
    "editable": false,
    "nbgrader": {
     "cell_type": "code",
     "checksum": "20798ed090b7142168484e8e89c74ddf",
     "grade": false,
     "grade_id": "cell-4a5af93ac80c2e34",
     "locked": true,
     "schema_version": 3,
     "solution": false,
     "task": false
    },
    "tags": []
   },
   "outputs": [],
   "source": [
    "import numpy as np\n",
    "import pandas as pd\n",
    "import scipy as sp\n",
    "import matplotlib as mpl\n",
    "import matplotlib.pyplot as plt\n",
    "import seaborn as sns"
   ]
  },
  {
   "cell_type": "code",
   "execution_count": null,
   "id": "c444ab45-1fe7-4008-8c3c-2b1b526a1fbc",
   "metadata": {},
   "outputs": [],
   "source": [
    "# Miejsce do importu pakietów wchodzących w skład standardowej biblioteki Pythona oraz ustawienie opcji wykorzystywanych pakietów"
   ]
  },
  {
   "cell_type": "markdown",
   "id": "3e77dfbb-90cf-463e-b9a7-62e85b221474",
   "metadata": {
    "deletable": false,
    "editable": false,
    "nbgrader": {
     "cell_type": "markdown",
     "checksum": "715e203d04bc87aab84469edcd97219b",
     "grade": false,
     "grade_id": "cell-8251a8dc1dba0354",
     "locked": true,
     "schema_version": 3,
     "solution": false,
     "task": false
    },
    "tags": []
   },
   "source": [
    "### Zadanie 1: Przygotowanie danych [10 pkt]\n",
    "\n",
    "#### a) Natężenie ruchu rowerowego \n",
    "\n",
    "Plik raw_bike_traffic_data.csv zawiera dane na temat ruchu rowerowego na moście Fremont Bridge w Seattle pobrane ze strony\n",
    "https://data.seattle.gov/Transportation/Fremont-Bridge-Bicycle-Counter/65db-xm6k.\n",
    "\n",
    "Zaimportuj zawarte w pliku dane do notatnika i utwórz na ich podstawie tablicę `bike_traffic_data` wykonaną według następujących wytycznych:\n",
    "\n",
    "- Tablica powinna zawierać wyłącznie następujące elementy:</br>\n",
    "    > Indeks: Date</br>\n",
    "    > `pandas.PeriodIndex` zawierający okresy czasu, w których dokonywane były zliczenia rowerzystów.\n",
    "    \n",
    "    > Kolumny: Total, East, West</br>\n",
    "    > Kolumny zawierają liczbę rowerzystów przejeżdżających przez most w poszczególnych godzinach w sumie oraz z podziałem na zachodnią i wschodnią stronę mostu.\n",
    "- Pozostaw w tablicy wyłącznie wiersze dotyczące 2022 roku.\n",
    "\n",
    "Zapisz tablicę do pliku bike_traffic_data.pkl.\n",
    "\n",
    "Wyświetl przygotowaną tablicę w taki sposób aby widoczne było po 12 pierwszych i ostatnich wierszy, a zawarte w tablicy wartości wyświetlały się bez miejsc po przecinku."
   ]
  },
  {
   "cell_type": "code",
   "execution_count": 25,
   "id": "a1a3f1e9-3392-41a0-a73d-167b235303dd",
   "metadata": {
    "deletable": false,
    "nbgrader": {
     "cell_type": "code",
     "checksum": "69701381bad47b312d4a37590f131714",
     "grade": false,
     "grade_id": "cell-aa85199b5cb633d2",
     "locked": false,
     "schema_version": 3,
     "solution": true,
     "task": false
    },
    "tags": []
   },
   "outputs": [
    {
     "data": {
      "text/html": [
       "<style type=\"text/css\">\n",
       "</style>\n",
       "<table id=\"T_38b18\">\n",
       "  <thead>\n",
       "    <tr>\n",
       "      <th class=\"blank level0\" >&nbsp;</th>\n",
       "      <th id=\"T_38b18_level0_col0\" class=\"col_heading level0 col0\" >Total</th>\n",
       "      <th id=\"T_38b18_level0_col1\" class=\"col_heading level0 col1\" >East</th>\n",
       "      <th id=\"T_38b18_level0_col2\" class=\"col_heading level0 col2\" >West</th>\n",
       "    </tr>\n",
       "    <tr>\n",
       "      <th class=\"index_name level0\" >Date</th>\n",
       "      <th class=\"blank col0\" >&nbsp;</th>\n",
       "      <th class=\"blank col1\" >&nbsp;</th>\n",
       "      <th class=\"blank col2\" >&nbsp;</th>\n",
       "    </tr>\n",
       "  </thead>\n",
       "  <tbody>\n",
       "    <tr>\n",
       "      <th id=\"T_38b18_level0_row0\" class=\"row_heading level0 row0\" >2022-01-01 00:00</th>\n",
       "      <td id=\"T_38b18_row0_col0\" class=\"data row0 col0\" >0</td>\n",
       "      <td id=\"T_38b18_row0_col1\" class=\"data row0 col1\" >0</td>\n",
       "      <td id=\"T_38b18_row0_col2\" class=\"data row0 col2\" >0</td>\n",
       "    </tr>\n",
       "    <tr>\n",
       "      <th id=\"T_38b18_level0_row1\" class=\"row_heading level0 row1\" >2022-01-01 01:00</th>\n",
       "      <td id=\"T_38b18_row1_col0\" class=\"data row1 col0\" >0</td>\n",
       "      <td id=\"T_38b18_row1_col1\" class=\"data row1 col1\" >0</td>\n",
       "      <td id=\"T_38b18_row1_col2\" class=\"data row1 col2\" >0</td>\n",
       "    </tr>\n",
       "    <tr>\n",
       "      <th id=\"T_38b18_level0_row2\" class=\"row_heading level0 row2\" >2022-01-01 02:00</th>\n",
       "      <td id=\"T_38b18_row2_col0\" class=\"data row2 col0\" >1</td>\n",
       "      <td id=\"T_38b18_row2_col1\" class=\"data row2 col1\" >0</td>\n",
       "      <td id=\"T_38b18_row2_col2\" class=\"data row2 col2\" >1</td>\n",
       "    </tr>\n",
       "    <tr>\n",
       "      <th id=\"T_38b18_level0_row3\" class=\"row_heading level0 row3\" >2022-01-01 03:00</th>\n",
       "      <td id=\"T_38b18_row3_col0\" class=\"data row3 col0\" >0</td>\n",
       "      <td id=\"T_38b18_row3_col1\" class=\"data row3 col1\" >0</td>\n",
       "      <td id=\"T_38b18_row3_col2\" class=\"data row3 col2\" >0</td>\n",
       "    </tr>\n",
       "    <tr>\n",
       "      <th id=\"T_38b18_level0_row4\" class=\"row_heading level0 row4\" >2022-01-01 04:00</th>\n",
       "      <td id=\"T_38b18_row4_col0\" class=\"data row4 col0\" >0</td>\n",
       "      <td id=\"T_38b18_row4_col1\" class=\"data row4 col1\" >0</td>\n",
       "      <td id=\"T_38b18_row4_col2\" class=\"data row4 col2\" >0</td>\n",
       "    </tr>\n",
       "    <tr>\n",
       "      <th id=\"T_38b18_level0_row5\" class=\"row_heading level0 row5\" >2022-01-01 05:00</th>\n",
       "      <td id=\"T_38b18_row5_col0\" class=\"data row5 col0\" >1</td>\n",
       "      <td id=\"T_38b18_row5_col1\" class=\"data row5 col1\" >1</td>\n",
       "      <td id=\"T_38b18_row5_col2\" class=\"data row5 col2\" >0</td>\n",
       "    </tr>\n",
       "    <tr>\n",
       "      <th id=\"T_38b18_level0_row6\" class=\"row_heading level0 row6\" >2022-01-01 06:00</th>\n",
       "      <td id=\"T_38b18_row6_col0\" class=\"data row6 col0\" >1</td>\n",
       "      <td id=\"T_38b18_row6_col1\" class=\"data row6 col1\" >1</td>\n",
       "      <td id=\"T_38b18_row6_col2\" class=\"data row6 col2\" >0</td>\n",
       "    </tr>\n",
       "    <tr>\n",
       "      <th id=\"T_38b18_level0_row7\" class=\"row_heading level0 row7\" >2022-01-01 07:00</th>\n",
       "      <td id=\"T_38b18_row7_col0\" class=\"data row7 col0\" >1</td>\n",
       "      <td id=\"T_38b18_row7_col1\" class=\"data row7 col1\" >1</td>\n",
       "      <td id=\"T_38b18_row7_col2\" class=\"data row7 col2\" >0</td>\n",
       "    </tr>\n",
       "    <tr>\n",
       "      <th id=\"T_38b18_level0_row8\" class=\"row_heading level0 row8\" >2022-01-01 08:00</th>\n",
       "      <td id=\"T_38b18_row8_col0\" class=\"data row8 col0\" >3</td>\n",
       "      <td id=\"T_38b18_row8_col1\" class=\"data row8 col1\" >3</td>\n",
       "      <td id=\"T_38b18_row8_col2\" class=\"data row8 col2\" >0</td>\n",
       "    </tr>\n",
       "    <tr>\n",
       "      <th id=\"T_38b18_level0_row9\" class=\"row_heading level0 row9\" >2022-01-01 09:00</th>\n",
       "      <td id=\"T_38b18_row9_col0\" class=\"data row9 col0\" >2</td>\n",
       "      <td id=\"T_38b18_row9_col1\" class=\"data row9 col1\" >0</td>\n",
       "      <td id=\"T_38b18_row9_col2\" class=\"data row9 col2\" >2</td>\n",
       "    </tr>\n",
       "    <tr>\n",
       "      <th id=\"T_38b18_level0_row10\" class=\"row_heading level0 row10\" >2022-01-01 10:00</th>\n",
       "      <td id=\"T_38b18_row10_col0\" class=\"data row10 col0\" >0</td>\n",
       "      <td id=\"T_38b18_row10_col1\" class=\"data row10 col1\" >0</td>\n",
       "      <td id=\"T_38b18_row10_col2\" class=\"data row10 col2\" >0</td>\n",
       "    </tr>\n",
       "    <tr>\n",
       "      <th id=\"T_38b18_level0_row11\" class=\"row_heading level0 row11\" >2022-01-01 11:00</th>\n",
       "      <td id=\"T_38b18_row11_col0\" class=\"data row11 col0\" >1</td>\n",
       "      <td id=\"T_38b18_row11_col1\" class=\"data row11 col1\" >0</td>\n",
       "      <td id=\"T_38b18_row11_col2\" class=\"data row11 col2\" >1</td>\n",
       "    </tr>\n",
       "    <tr>\n",
       "      <th id=\"T_38b18_level0_row12\" class=\"row_heading level0 row12\" >2022-12-31 12:00</th>\n",
       "      <td id=\"T_38b18_row12_col0\" class=\"data row12 col0\" >124</td>\n",
       "      <td id=\"T_38b18_row12_col1\" class=\"data row12 col1\" >63</td>\n",
       "      <td id=\"T_38b18_row12_col2\" class=\"data row12 col2\" >61</td>\n",
       "    </tr>\n",
       "    <tr>\n",
       "      <th id=\"T_38b18_level0_row13\" class=\"row_heading level0 row13\" >2022-12-31 13:00</th>\n",
       "      <td id=\"T_38b18_row13_col0\" class=\"data row13 col0\" >103</td>\n",
       "      <td id=\"T_38b18_row13_col1\" class=\"data row13 col1\" >56</td>\n",
       "      <td id=\"T_38b18_row13_col2\" class=\"data row13 col2\" >47</td>\n",
       "    </tr>\n",
       "    <tr>\n",
       "      <th id=\"T_38b18_level0_row14\" class=\"row_heading level0 row14\" >2022-12-31 14:00</th>\n",
       "      <td id=\"T_38b18_row14_col0\" class=\"data row14 col0\" >98</td>\n",
       "      <td id=\"T_38b18_row14_col1\" class=\"data row14 col1\" >46</td>\n",
       "      <td id=\"T_38b18_row14_col2\" class=\"data row14 col2\" >52</td>\n",
       "    </tr>\n",
       "    <tr>\n",
       "      <th id=\"T_38b18_level0_row15\" class=\"row_heading level0 row15\" >2022-12-31 15:00</th>\n",
       "      <td id=\"T_38b18_row15_col0\" class=\"data row15 col0\" >83</td>\n",
       "      <td id=\"T_38b18_row15_col1\" class=\"data row15 col1\" >40</td>\n",
       "      <td id=\"T_38b18_row15_col2\" class=\"data row15 col2\" >43</td>\n",
       "    </tr>\n",
       "    <tr>\n",
       "      <th id=\"T_38b18_level0_row16\" class=\"row_heading level0 row16\" >2022-12-31 16:00</th>\n",
       "      <td id=\"T_38b18_row16_col0\" class=\"data row16 col0\" >68</td>\n",
       "      <td id=\"T_38b18_row16_col1\" class=\"data row16 col1\" >28</td>\n",
       "      <td id=\"T_38b18_row16_col2\" class=\"data row16 col2\" >40</td>\n",
       "    </tr>\n",
       "    <tr>\n",
       "      <th id=\"T_38b18_level0_row17\" class=\"row_heading level0 row17\" >2022-12-31 17:00</th>\n",
       "      <td id=\"T_38b18_row17_col0\" class=\"data row17 col0\" >35</td>\n",
       "      <td id=\"T_38b18_row17_col1\" class=\"data row17 col1\" >19</td>\n",
       "      <td id=\"T_38b18_row17_col2\" class=\"data row17 col2\" >16</td>\n",
       "    </tr>\n",
       "    <tr>\n",
       "      <th id=\"T_38b18_level0_row18\" class=\"row_heading level0 row18\" >2022-12-31 18:00</th>\n",
       "      <td id=\"T_38b18_row18_col0\" class=\"data row18 col0\" >28</td>\n",
       "      <td id=\"T_38b18_row18_col1\" class=\"data row18 col1\" >15</td>\n",
       "      <td id=\"T_38b18_row18_col2\" class=\"data row18 col2\" >13</td>\n",
       "    </tr>\n",
       "    <tr>\n",
       "      <th id=\"T_38b18_level0_row19\" class=\"row_heading level0 row19\" >2022-12-31 19:00</th>\n",
       "      <td id=\"T_38b18_row19_col0\" class=\"data row19 col0\" >14</td>\n",
       "      <td id=\"T_38b18_row19_col1\" class=\"data row19 col1\" >6</td>\n",
       "      <td id=\"T_38b18_row19_col2\" class=\"data row19 col2\" >8</td>\n",
       "    </tr>\n",
       "    <tr>\n",
       "      <th id=\"T_38b18_level0_row20\" class=\"row_heading level0 row20\" >2022-12-31 20:00</th>\n",
       "      <td id=\"T_38b18_row20_col0\" class=\"data row20 col0\" >20</td>\n",
       "      <td id=\"T_38b18_row20_col1\" class=\"data row20 col1\" >13</td>\n",
       "      <td id=\"T_38b18_row20_col2\" class=\"data row20 col2\" >7</td>\n",
       "    </tr>\n",
       "    <tr>\n",
       "      <th id=\"T_38b18_level0_row21\" class=\"row_heading level0 row21\" >2022-12-31 21:00</th>\n",
       "      <td id=\"T_38b18_row21_col0\" class=\"data row21 col0\" >16</td>\n",
       "      <td id=\"T_38b18_row21_col1\" class=\"data row21 col1\" >6</td>\n",
       "      <td id=\"T_38b18_row21_col2\" class=\"data row21 col2\" >10</td>\n",
       "    </tr>\n",
       "    <tr>\n",
       "      <th id=\"T_38b18_level0_row22\" class=\"row_heading level0 row22\" >2022-12-31 22:00</th>\n",
       "      <td id=\"T_38b18_row22_col0\" class=\"data row22 col0\" >23</td>\n",
       "      <td id=\"T_38b18_row22_col1\" class=\"data row22 col1\" >15</td>\n",
       "      <td id=\"T_38b18_row22_col2\" class=\"data row22 col2\" >8</td>\n",
       "    </tr>\n",
       "    <tr>\n",
       "      <th id=\"T_38b18_level0_row23\" class=\"row_heading level0 row23\" >2022-12-31 23:00</th>\n",
       "      <td id=\"T_38b18_row23_col0\" class=\"data row23 col0\" >25</td>\n",
       "      <td id=\"T_38b18_row23_col1\" class=\"data row23 col1\" >15</td>\n",
       "      <td id=\"T_38b18_row23_col2\" class=\"data row23 col2\" >10</td>\n",
       "    </tr>\n",
       "  </tbody>\n",
       "</table>\n"
      ],
      "text/plain": [
       "<pandas.io.formats.style.Styler at 0x23edf895270>"
      ]
     },
     "execution_count": 25,
     "metadata": {},
     "output_type": "execute_result"
    }
   ],
   "source": [
    "bike_traffic_data = pd.read_csv(\"raw_bike_traffic_data.csv\",index_col = \"Date\")\n",
    "bike_traffic_data.index = pd.PeriodIndex(bike_traffic_data.index,freq = \"H\")\n",
    "bike_traffic_data = bike_traffic_data[bike_traffic_data.index.year == 2022]\n",
    "bike_traffic_data.columns = [\"Total\",\"East\",\"West\"]\n",
    "bike_traffic_data.iloc[[*range(12),*range(-12,0)]].style.format(precision=0)"
   ]
  },
  {
   "cell_type": "code",
   "execution_count": 27,
   "id": "98c039cb-1452-449c-a316-18ad447953f2",
   "metadata": {},
   "outputs": [],
   "source": [
    "bike_traffic_data.to_pickle(\"bike_traffic_data.pkl\")"
   ]
  },
  {
   "cell_type": "code",
   "execution_count": 26,
   "id": "e39740a0-38f2-4b64-83f3-28b3c612b28c",
   "metadata": {
    "deletable": false,
    "editable": false,
    "nbgrader": {
     "cell_type": "code",
     "checksum": "46849aa3637d7997c84fb4c840f6e852",
     "grade": true,
     "grade_id": "cell-683b0a3c6c74d0c6",
     "locked": true,
     "points": 2,
     "schema_version": 3,
     "solution": false,
     "task": false
    },
    "tags": []
   },
   "outputs": [],
   "source": [
    "### Komórka testowa\n",
    "# Test 1 Kształt tablicy\n",
    "assert bike_traffic_data.shape == (8760, 3)\n",
    "# Test 2 Kolumny\n",
    "assert len(set(list(bike_traffic_data.columns)) & set(['Total', 'East', 'West'])) == 3\n",
    "# Test 3 Indeks\n",
    "assert (bike_traffic_data.index.name == 'Date') == True\n",
    "assert isinstance(bike_traffic_data.index, pd.PeriodIndex)\n",
    "assert bike_traffic_data.index.values.min() == pd.Period('2022-01-01 00:00', 'H')\n",
    "assert bike_traffic_data.index.values.max() == pd.Period('2022-12-31 23:00', 'H')\n",
    "# Test 4 Zawartość kolumn\n",
    "assert np.all(np.isclose(bike_traffic_data[['Total', 'East', 'West']].min().values, np.array([0, 0, 0]))) == True\n",
    "assert np.all(np.isclose(bike_traffic_data[['Total', 'East', 'West']].max().values, np.array([717, 464, 635]))) == True"
   ]
  },
  {
   "cell_type": "markdown",
   "id": "f24c1ec2-ae66-4ff0-b0b6-9a8c72465b1c",
   "metadata": {
    "deletable": false,
    "editable": false,
    "nbgrader": {
     "cell_type": "markdown",
     "checksum": "0b4911483491d2de17317840570748eb",
     "grade": false,
     "grade_id": "cell-573405bbd6e6471e",
     "locked": true,
     "schema_version": 3,
     "solution": false,
     "task": false
    },
    "tags": []
   },
   "source": [
    "#### b) Pogoda\n",
    "\n",
    "Pliki 2022_01.txt, 2022_02.txt ...  2022_12.txt zawierają miesięczne raporty pogodowe (F6 Preliminary Local Climate Data Report) ze stacji NWS Seattle/Tacoma, WA pobrane ze strony https://forecast.weather.gov/product.php?site=SEW&product=CF6&issuedby=SEW.\n",
    "\n",
    "Wyjaśnienie wykorzystanych w raportach symboli i skrótów można znaleźć pod następującym linkiem: https://www.weather.gov/grr/climateF6explain.\n",
    "\n",
    "Zaimportuj zawarte w plikach dane do notatnika i utwórz na ich podstawie tablicę `weather_data` wykonaną według następujących wytycznych:\n",
    "\n",
    "- Tablica powinna zawierać wyłącznie następujące elementy:</br>\n",
    "    > Indeks: Date</br>\n",
    "    > `pandas.PeriodIndex` zawierający okresy czasu, których dotyczą dane z raportów pogodowych.</br>\n",
    "    \n",
    "    > Kolumny: 2-poziomowe nagłówki w podanej niżej kolejności (nazwa 1 poziomu: podległe jej nazwy 2 poziomu) </br>\n",
    "    >> Temperature: Min, Avg, Max</br>\n",
    "    >> Precipitation: Total</br>\n",
    "    >> Snow: Fall, Depth</br>\n",
    "    >> Wind:  Avg speed, Max speed</br>\n",
    "    >> Sky: Cloud cover</br>\n",
    "\n",
    "- Zamień oznaczenia opadów śladowych na wartość 0.\n",
    "- Przelicz występujące w tablicy wartości do *C (temperatura), mm (opady), m/s (wiatr) i ułamków (zachmurzenie).\n",
    "\n",
    "Zapisz tablicę do pliku weather_data.pkl.\n",
    "\n",
    "Wyświetl przygotowaną tablicę w taki sposób aby widoczne było po 10 pierwszych i ostatnich wierszy, a zawarte w tablicy liczby wyświetlały się z dokładnością 2 miejsc po przecinku."
   ]
  },
  {
   "cell_type": "code",
   "execution_count": 77,
   "id": "b6a63e4b-3065-4aab-8ae3-7859d3471bf9",
   "metadata": {
    "deletable": false,
    "nbgrader": {
     "cell_type": "code",
     "checksum": "7672db233c633d96ab05f5f5dd5e7f3b",
     "grade": false,
     "grade_id": "cell-186c2f35c4f9aca6",
     "locked": false,
     "schema_version": 3,
     "solution": true,
     "task": false
    },
    "tags": []
   },
   "outputs": [
    {
     "data": {
      "text/plain": [
       "array(['0.00', '0.79', '0.49', '0.22', '0.33', '2.00', '0.38', '0.27',\n",
       "       '1.70', '0.14', '0.24', '0.02', '0.03', '0.01', '0.16', 'T',\n",
       "       '0.28', '0.04', '0.10', '0.36', '0.06', '1.25', '2.97', '0.15',\n",
       "       '0.25', '0.46', '0.08', '0.59', '0.21', '0.31', '0.41', '0.09',\n",
       "       '0.05', '0.23', '0.55', '0.13', '0.18', '0.39', '0.37', '0.44',\n",
       "       '0.64', '0.47', '0.29', '0.65', '0.17', '0.56', '1.10', '0.11',\n",
       "       0.0, 0.09, 0.02, 0.05, 0.01, '0.76', '1.20', 'M', '1.05', '0.20',\n",
       "       '0.32', '0.71', '0.30', '0.66', '0.35', '1.52', '0.45', '1.12'],\n",
       "      dtype=object)"
      ]
     },
     "execution_count": 77,
     "metadata": {},
     "output_type": "execute_result"
    }
   ],
   "source": [
    "weather_data = pd.DataFrame()\n",
    "months = [31,28,31,30,31,30,31,31,30,31,30,31]\n",
    "for i in range(1,13):\n",
    "    filename = \"raw_weather_data/2022_\" + ( str(i) if i > 9 else \"0\"+str(i) ) + \".txt\"\n",
    "    df = pd.read_csv(filename,skiprows = 18, nrows = months[i-1],delim_whitespace = True,header=None)\n",
    "    df.index = pd.PeriodIndex(data = df[0].apply(lambda x : \"2022-\"+( str(i) if i > 9 else \"0\"+str(i) )+\"-\" + ( str(x) if x > 9 else \"0\" + str(x) )),freq = \"D\")\n",
    "    weather_data = pd.concat([weather_data,df])\n",
    "weather_data.index.name = \"Date\"\n",
    "weather_data = weather_data.iloc[:,[2,3,1,7,8,9,10,11,15]]\n",
    "columns = pd.MultiIndex.from_tuples([(\"Temperature\",\"Min\"),(\"Temperature\",\"Avg\"),(\"Temperature\",\"Max\"),(\"Precipitation\",\"Total\"),\n",
    "          (\"Snow\",\"Fall\"),(\"Snow\",\"Depth\"),(\"Wind\",\"Avg speed\"),(\"Wind\",\"Max speed\"),(\"Sky\",\"Cloud cover\")])\n",
    "weather_data = pd.DataFrame(weather_data.values,weather_data.index,columns)\n",
    "weather_data[\"Precipitation\"][\"Total\"].unique()"
   ]
  },
  {
   "cell_type": "code",
   "execution_count": null,
   "id": "c7778655-5942-4aa7-b44f-eb9bef4f0a5c",
   "metadata": {
    "deletable": false,
    "editable": false,
    "nbgrader": {
     "cell_type": "code",
     "checksum": "1d099eab90198a9210294c9187ad092e",
     "grade": true,
     "grade_id": "cell-e70d426962ca7e21",
     "locked": true,
     "points": 8,
     "schema_version": 3,
     "solution": false,
     "task": false
    },
    "tags": []
   },
   "outputs": [],
   "source": [
    "### Komórka testowa\n",
    "# Test 1 Kształt tablicy\n",
    "assert weather_data.shape == (365, 9)\n",
    "# Test 2 Kolumny\n",
    "assert len(set(list(weather_data.columns)) & set([('Temperature', 'Min'), ('Temperature', 'Avg'), ('Temperature', 'Max'), ('Precipitation', 'Total'),\n",
    "            ('Snow', 'Fall'), ('Snow', 'Depth'), ('Wind', 'Avg speed'), ('Wind', 'Max speed'), ('Sky', 'Cloud cover')])) == 9\n",
    "# Test 3 Indeks\n",
    "assert (weather_data.index.name == 'Date') == True\n",
    "assert isinstance(weather_data.index, pd.PeriodIndex) == True\n",
    "assert weather_data.index.values.min() == pd.Period('2022-01-01', 'D')\n",
    "assert weather_data.index.values.max() == pd.Period('2022-12-31', 'D')\n",
    "# Test 4 Zawartość kolumn\n",
    "assert np.all(np.isclose(weather_data.min().values, np.array([-7.77777778, -5.55555556, -3.33333333, 0., 0., 0., 0.89407778, 3.12927222, 0.]))) == True\n",
    "assert np.all(np.isclose(weather_data.max().values, np.array([20., 26.66666667, 35., 75.438, 66.04, 76.2, 8.31492333, 16.54043889, 1.]))) == True"
   ]
  }
 ],
 "metadata": {
  "kernelspec": {
   "display_name": "Python 3 (ipykernel)",
   "language": "python",
   "name": "python3"
  },
  "language_info": {
   "codemirror_mode": {
    "name": "ipython",
    "version": 3
   },
   "file_extension": ".py",
   "mimetype": "text/x-python",
   "name": "python",
   "nbconvert_exporter": "python",
   "pygments_lexer": "ipython3",
   "version": "3.10.8"
  }
 },
 "nbformat": 4,
 "nbformat_minor": 5
}
