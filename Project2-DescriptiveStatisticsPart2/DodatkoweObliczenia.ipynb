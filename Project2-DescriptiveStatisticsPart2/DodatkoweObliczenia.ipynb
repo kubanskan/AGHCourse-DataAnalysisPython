{
 "cells": [
  {
   "cell_type": "markdown",
   "id": "ab12b776-4627-4ca6-824e-1bba21669764",
   "metadata": {},
   "source": [
    "# Dodatkowe Obliczenia"
   ]
  },
  {
   "cell_type": "code",
   "execution_count": 1,
   "id": "e16f90e8-6e9a-4fbb-a9a9-3c3ff631bac8",
   "metadata": {},
   "outputs": [],
   "source": [
    "import numpy as np\n",
    "import pandas as pd\n",
    "import scipy as sp\n",
    "import matplotlib as mpl\n",
    "import matplotlib.pyplot as plt\n",
    "import seaborn as sns"
   ]
  },
  {
   "cell_type": "code",
   "execution_count": 2,
   "id": "a99cde62-bad7-439c-8dde-cb939ae93571",
   "metadata": {},
   "outputs": [],
   "source": [
    "recession_data_1 = pd.read_pickle(\"recession_data_1.pkl\")"
   ]
  },
  {
   "cell_type": "markdown",
   "id": "cd08d36f-4c6b-4994-8d74-02e531f9a075",
   "metadata": {},
   "source": [
    "### Sprawdzenie kraju który w 2009 miał GDP growth większe od 20"
   ]
  },
  {
   "cell_type": "code",
   "execution_count": 3,
   "id": "909b621d-eef0-4214-8ef1-dcf05d0a0126",
   "metadata": {},
   "outputs": [
    {
     "data": {
      "text/html": [
       "<div>\n",
       "<style scoped>\n",
       "    .dataframe tbody tr th:only-of-type {\n",
       "        vertical-align: middle;\n",
       "    }\n",
       "\n",
       "    .dataframe tbody tr th {\n",
       "        vertical-align: top;\n",
       "    }\n",
       "\n",
       "    .dataframe thead th {\n",
       "        text-align: right;\n",
       "    }\n",
       "</style>\n",
       "<table border=\"1\" class=\"dataframe\">\n",
       "  <thead>\n",
       "    <tr style=\"text-align: right;\">\n",
       "      <th></th>\n",
       "      <th>Country Name</th>\n",
       "      <th>Region Name</th>\n",
       "      <th>Income Group</th>\n",
       "      <th>2006</th>\n",
       "      <th>2007</th>\n",
       "      <th>2008</th>\n",
       "      <th>2009</th>\n",
       "      <th>2010</th>\n",
       "      <th>2011</th>\n",
       "    </tr>\n",
       "    <tr>\n",
       "      <th>Country Code</th>\n",
       "      <th></th>\n",
       "      <th></th>\n",
       "      <th></th>\n",
       "      <th></th>\n",
       "      <th></th>\n",
       "      <th></th>\n",
       "      <th></th>\n",
       "      <th></th>\n",
       "      <th></th>\n",
       "    </tr>\n",
       "  </thead>\n",
       "  <tbody>\n",
       "    <tr>\n",
       "      <th>AFG</th>\n",
       "      <td>Afghanistan</td>\n",
       "      <td>Asia</td>\n",
       "      <td>Low</td>\n",
       "      <td>5.357403</td>\n",
       "      <td>13.82632</td>\n",
       "      <td>3.924984</td>\n",
       "      <td>21.390528</td>\n",
       "      <td>14.362441</td>\n",
       "      <td>0.426355</td>\n",
       "    </tr>\n",
       "  </tbody>\n",
       "</table>\n",
       "</div>"
      ],
      "text/plain": [
       "             Country Name Region Name Income Group      2006      2007  \\\n",
       "Country Code                                                             \n",
       "AFG           Afghanistan        Asia          Low  5.357403  13.82632   \n",
       "\n",
       "                  2008       2009       2010      2011  \n",
       "Country Code                                            \n",
       "AFG           3.924984  21.390528  14.362441  0.426355  "
      ]
     },
     "execution_count": 3,
     "metadata": {},
     "output_type": "execute_result"
    }
   ],
   "source": [
    "recession_data_1[ recession_data_1['2009'] >= 20]"
   ]
  },
  {
   "cell_type": "markdown",
   "id": "ed4f574e-608c-4cc0-8127-6271ac95ce17",
   "metadata": {},
   "source": [
    "### Porównanie grup dochodowych z pozytywnym GDP w 2009 roku  "
   ]
  },
  {
   "cell_type": "code",
   "execution_count": 4,
   "id": "3d5cdc58-9302-4ef1-b8eb-9965baa503d5",
   "metadata": {},
   "outputs": [
    {
     "data": {
      "text/html": [
       "<div>\n",
       "<style scoped>\n",
       "    .dataframe tbody tr th:only-of-type {\n",
       "        vertical-align: middle;\n",
       "    }\n",
       "\n",
       "    .dataframe tbody tr th {\n",
       "        vertical-align: top;\n",
       "    }\n",
       "\n",
       "    .dataframe thead tr th {\n",
       "        text-align: left;\n",
       "    }\n",
       "\n",
       "    .dataframe thead tr:last-of-type th {\n",
       "        text-align: right;\n",
       "    }\n",
       "</style>\n",
       "<table border=\"1\" class=\"dataframe\">\n",
       "  <thead>\n",
       "    <tr>\n",
       "      <th></th>\n",
       "      <th colspan=\"4\" halign=\"left\">2009</th>\n",
       "    </tr>\n",
       "    <tr>\n",
       "      <th></th>\n",
       "      <th>min</th>\n",
       "      <th>max</th>\n",
       "      <th>count</th>\n",
       "      <th>mean</th>\n",
       "    </tr>\n",
       "    <tr>\n",
       "      <th>Income Group</th>\n",
       "      <th></th>\n",
       "      <th></th>\n",
       "      <th></th>\n",
       "      <th></th>\n",
       "    </tr>\n",
       "  </thead>\n",
       "  <tbody>\n",
       "    <tr>\n",
       "      <th>High</th>\n",
       "      <td>0.127953</td>\n",
       "      <td>11.956561</td>\n",
       "      <td>12</td>\n",
       "      <td>2.525451</td>\n",
       "    </tr>\n",
       "    <tr>\n",
       "      <th>Low</th>\n",
       "      <td>0.086697</td>\n",
       "      <td>21.390528</td>\n",
       "      <td>39</td>\n",
       "      <td>5.529980</td>\n",
       "    </tr>\n",
       "    <tr>\n",
       "      <th>Lower middle</th>\n",
       "      <td>0.476898</td>\n",
       "      <td>11.637289</td>\n",
       "      <td>36</td>\n",
       "      <td>4.394990</td>\n",
       "    </tr>\n",
       "    <tr>\n",
       "      <th>Upper middle</th>\n",
       "      <td>0.130331</td>\n",
       "      <td>10.232156</td>\n",
       "      <td>15</td>\n",
       "      <td>2.195922</td>\n",
       "    </tr>\n",
       "  </tbody>\n",
       "</table>\n",
       "</div>"
      ],
      "text/plain": [
       "                  2009                           \n",
       "                   min        max count      mean\n",
       "Income Group                                     \n",
       "High          0.127953  11.956561    12  2.525451\n",
       "Low           0.086697  21.390528    39  5.529980\n",
       "Lower middle  0.476898  11.637289    36  4.394990\n",
       "Upper middle  0.130331  10.232156    15  2.195922"
      ]
     },
     "execution_count": 4,
     "metadata": {},
     "output_type": "execute_result"
    }
   ],
   "source": [
    "recession_data_1[ recession_data_1['2009'] > 0].groupby('Income Group')[['2009']].agg( ['min', 'max', 'count', 'mean'])"
   ]
  }
 ],
 "metadata": {
  "kernelspec": {
   "display_name": "Python py311",
   "language": "python",
   "name": "datascience"
  },
  "language_info": {
   "codemirror_mode": {
    "name": "ipython",
    "version": 3
   },
   "file_extension": ".py",
   "mimetype": "text/x-python",
   "name": "python",
   "nbconvert_exporter": "python",
   "pygments_lexer": "ipython3",
   "version": "3.11.8"
  }
 },
 "nbformat": 4,
 "nbformat_minor": 5
}
